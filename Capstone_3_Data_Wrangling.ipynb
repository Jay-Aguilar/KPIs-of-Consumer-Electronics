{
 "cells": [
  {
   "cell_type": "markdown",
   "id": "083c7341-a23b-4983-9b38-e14dcf9bd3c9",
   "metadata": {},
   "source": [
    "<div style=\"text-align: center;\">\n",
    "    <br><br>\n",
    "    <h1>KPIs of Consumer Electronics (Part One: Data Wrangling)</h1>\n",
    "    <hr style=\"width: 100%;\"> <!-- The line is also centered, and you can adjust the width as needed -->\n",
    "    <br><br>\n",
    "</div>"
   ]
  },
  {
   "cell_type": "markdown",
   "id": "24b3d013-e442-4125-b822-15731923e1a0",
   "metadata": {},
   "source": [
    "<div style=\"text-align: center;\">\n",
    "    <br>\n",
    "    <h2>1.2 Imports</h2>\n",
    "    <hr style=\"width: 100%;\"> <!-- The line is also centered, and you can adjust the width as needed -->\n",
    "    <br><br>\n",
    "</div>"
   ]
  },
  {
   "cell_type": "code",
   "execution_count": 6,
   "id": "02fe3e92-4fe8-4fe0-9d09-1359f98c5d53",
   "metadata": {},
   "outputs": [
    {
     "name": "stdout",
     "output_type": "stream",
     "text": [
      "---------------------*HEAD*---------------------\n",
      "   ProductID ProductCategory  ProductBrand  ProductPrice  CustomerAge  \\\n",
      "0       5874     Smartphones  Other Brands    312.949668           18   \n",
      "1       5875   Smart Watches       Samsung    980.389404           35   \n",
      "2       5876         Tablets       Samsung   2606.718293           63   \n",
      "3       5877     Smartphones       Samsung    870.395450           63   \n",
      "4       5878         Tablets          Sony   1798.955875           57   \n",
      "\n",
      "   CustomerGender  PurchaseFrequency  CustomerSatisfaction  PurchaseIntent  \n",
      "0               0                  2                     1               0  \n",
      "1               1                  7                     2               1  \n",
      "2               0                  1                     5               1  \n",
      "3               1                 10                     3               1  \n",
      "4               0                 17                     3               0  \n",
      "-------------------*END HEAD*-------------------\n"
     ]
    }
   ],
   "source": [
    "# Import Dataset 1 : csv file\n",
    "\n",
    "import pandas as pd\n",
    "\n",
    "file_path_1 = 'consumer_electronics_sales_data.csv'\n",
    "\n",
    "# Load the Excel file into a pandas DataFrame\n",
    "ds_1 = pd.read_csv(file_path_1)\n",
    "\n",
    "# Display the first few rows of the DataFrame to verify the import\n",
    "print('---------------------*HEAD*---------------------')\n",
    "print(ds_1.head())\n",
    "print('-------------------*END HEAD*-------------------')"
   ]
  },
  {
   "cell_type": "code",
   "execution_count": 7,
   "id": "0694fc3e-ca0d-4416-83db-6ba607e731f8",
   "metadata": {},
   "outputs": [
    {
     "name": "stdout",
     "output_type": "stream",
     "text": [
      "---------------------*HEAD*---------------------\n",
      "   customer_id           channel       cost  conversion_rate  revenue\n",
      "0            1          referral   8.320327         0.123145     4199\n",
      "1            2  paid advertising  30.450327         0.016341     3410\n",
      "2            3   email marketing   5.246263         0.043822     3164\n",
      "3            4      social media   9.546326         0.167592     1520\n",
      "4            5          referral   8.320327         0.123145     2419\n",
      "-------------------*END HEAD*-------------------\n"
     ]
    }
   ],
   "source": [
    "# Import Dataset 2 : csv file\n",
    "\n",
    "import pandas as pd\n",
    "\n",
    "file_path_2 = 'customer_acquisition_data.csv'\n",
    "\n",
    "# Load the Excel file into a pandas DataFrame\n",
    "ds_2 = pd.read_csv(file_path_2)\n",
    "\n",
    "# Display the first few rows of the DataFrame to verify the import\n",
    "print('---------------------*HEAD*---------------------')\n",
    "print(ds_2.head())\n",
    "print('-------------------*END HEAD*-------------------')"
   ]
  },
  {
   "cell_type": "markdown",
   "id": "80833726-fe52-4350-b99f-ee1cb9961e64",
   "metadata": {},
   "source": [
    "<div style=\"text-align: center;\">\n",
    "    <br>\n",
    "    <h2>1.3 Data Wrangling</h2>\n",
    "    <hr style=\"width: 100%;\"> <!-- The line is also centered, and you can adjust the width as needed -->\n",
    "    <br><br>\n",
    "</div>"
   ]
  },
  {
   "cell_type": "code",
   "execution_count": 8,
   "id": "8af388ef-b48b-41c6-9f35-a8b1fab9caa2",
   "metadata": {},
   "outputs": [
    {
     "name": "stdout",
     "output_type": "stream",
     "text": [
      "ds_1 info:\n",
      "<class 'pandas.core.frame.DataFrame'>\n",
      "RangeIndex: 9000 entries, 0 to 8999\n",
      "Data columns (total 9 columns):\n",
      " #   Column                Non-Null Count  Dtype  \n",
      "---  ------                --------------  -----  \n",
      " 0   ProductID             9000 non-null   int64  \n",
      " 1   ProductCategory       9000 non-null   object \n",
      " 2   ProductBrand          9000 non-null   object \n",
      " 3   ProductPrice          9000 non-null   float64\n",
      " 4   CustomerAge           9000 non-null   int64  \n",
      " 5   CustomerGender        9000 non-null   int64  \n",
      " 6   PurchaseFrequency     9000 non-null   int64  \n",
      " 7   CustomerSatisfaction  9000 non-null   int64  \n",
      " 8   PurchaseIntent        9000 non-null   int64  \n",
      "dtypes: float64(1), int64(6), object(2)\n",
      "memory usage: 632.9+ KB\n",
      "None\n",
      "\n",
      "ds_2 info:\n",
      "<class 'pandas.core.frame.DataFrame'>\n",
      "RangeIndex: 800 entries, 0 to 799\n",
      "Data columns (total 5 columns):\n",
      " #   Column           Non-Null Count  Dtype  \n",
      "---  ------           --------------  -----  \n",
      " 0   customer_id      800 non-null    int64  \n",
      " 1   channel          800 non-null    object \n",
      " 2   cost             800 non-null    float64\n",
      " 3   conversion_rate  800 non-null    float64\n",
      " 4   revenue          800 non-null    int64  \n",
      "dtypes: float64(2), int64(2), object(1)\n",
      "memory usage: 31.4+ KB\n",
      "None\n"
     ]
    }
   ],
   "source": [
    "import pandas as pd\n",
    "\n",
    "\n",
    "# Display basic info\n",
    "print(\"ds_1 info:\")\n",
    "print(ds_1.info())\n",
    "print(\"\\nds_2 info:\")\n",
    "print(ds_2.info())\n",
    "\n",
    "# Missing values\n",
    "# Drop columns with a high percentage of missing values, or fill with a placeholder\n",
    "threshold = 0.5  # Drop columns with more than 50% missing values\n",
    "ds_1 = ds_1.dropna(thresh=len(ds_1) * (1 - threshold), axis=1)\n",
    "ds_2 = ds_2.dropna(thresh=len(ds_2) * (1 - threshold), axis=1)\n",
    "\n",
    "# Fillling remaining missing values\n",
    "ds_1.fillna(ds_1.median(numeric_only=True), inplace=True)\n",
    "ds_2.fillna(ds_2.median(numeric_only=True), inplace=True)\n",
    "\n",
    "\n",
    "# Duplicates\n",
    "ds_1.drop_duplicates(inplace=True)\n",
    "ds_2.drop_duplicates(inplace=True)"
   ]
  },
  {
   "cell_type": "code",
   "execution_count": 9,
   "id": "a439666d-f897-4eaf-9b58-495943d1f984",
   "metadata": {},
   "outputs": [],
   "source": [
    "#Semantic Cleaning for ds_1"
   ]
  },
  {
   "cell_type": "code",
   "execution_count": 10,
   "id": "c8c67dd3-3af0-4b72-bbe4-d0dfcda63298",
   "metadata": {},
   "outputs": [
    {
     "name": "stdout",
     "output_type": "stream",
     "text": [
      "Column 'ProductPrice' has no negative or zero values.\n"
     ]
    }
   ],
   "source": [
    "# Columns to check \n",
    "columns_to_check = [\"ProductPrice\"]\n",
    "\n",
    "# Negative or zero values in each column\n",
    "for col in columns_to_check:\n",
    "    if col in ds_1.columns:\n",
    "        negative_or_zero = ds_1[ds_1[col] <= 0]\n",
    "        if not negative_or_zero.empty:\n",
    "            print(f\"Column '{col}' has {len(negative_or_zero)} rows with negative or zero values:\")\n",
    "            print(negative_or_zero[[col]])\n",
    "        else:\n",
    "            print(f\"Column '{col}' has no negative or zero values.\")\n",
    "    else:\n",
    "        print(f\"Column '{col}' does not exist in ds_2.\")"
   ]
  },
  {
   "cell_type": "code",
   "execution_count": null,
   "id": "cd5ff104-effb-4fc0-b3c6-becfe3d8407a",
   "metadata": {},
   "outputs": [],
   "source": [
    "#Semantic cleaning for ds_2"
   ]
  },
  {
   "cell_type": "code",
   "execution_count": 3,
   "id": "4b19b7b5-a52b-4f61-9aa9-f0e0d0c7953f",
   "metadata": {},
   "outputs": [
    {
     "name": "stdout",
     "output_type": "stream",
     "text": [
      "Column 'cost' has no negative or zero values.\n",
      "Column 'conversion_rate' has no negative or zero values.\n",
      "Column 'revenue' has no negative or zero values.\n"
     ]
    }
   ],
   "source": [
    "# Columns to check \n",
    "columns_to_check = [\"cost\", \"conversion_rate\", \"revenue\"]\n",
    "\n",
    "# Negative or zero values in each column\n",
    "for col in columns_to_check:\n",
    "    if col in ds_2.columns:\n",
    "        negative_or_zero = ds_2[ds_2[col] <= 0]\n",
    "        if not negative_or_zero.empty:\n",
    "            print(f\"Column '{col}' has {len(negative_or_zero)} rows with negative or zero values:\")\n",
    "            print(negative_or_zero[[col]])\n",
    "        else:\n",
    "            print(f\"Column '{col}' has no negative or zero values.\")\n",
    "    else:\n",
    "        print(f\"Column '{col}' does not exist in ds_2.\")"
   ]
  },
  {
   "cell_type": "code",
   "execution_count": null,
   "id": "c06ed095-ebf4-4c69-b8ae-4e38200469b3",
   "metadata": {},
   "outputs": [],
   "source": [
    "#checking ds_1 null vlaues"
   ]
  },
  {
   "cell_type": "code",
   "execution_count": 11,
   "id": "9eceac73-d909-4a28-83d0-b9f39bdb982a",
   "metadata": {},
   "outputs": [
    {
     "name": "stdout",
     "output_type": "stream",
     "text": [
      "No null values in categorical columns.\n",
      "No null values in non-categorical columns.\n"
     ]
    }
   ],
   "source": [
    "# Separating categorical and non-categorical columns\n",
    "categorical_columns = ds_1.select_dtypes(include=['object', 'category']).columns\n",
    "noncategorical_columns = ds_1.select_dtypes(exclude=['object', 'category']).columns\n",
    "\n",
    "# Null values in categorical columns\n",
    "null_categorical = ds_1[categorical_columns].isnull().sum()\n",
    "null_categorical = null_categorical[null_categorical > 0]  # Filter columns with nulls\n",
    "if not null_categorical.empty:\n",
    "    print(\"Categorical columns with null values:\")\n",
    "    print(null_categorical)\n",
    "else:\n",
    "    print(\"No null values in categorical columns.\")\n",
    "\n",
    "# Null values in non-categorical columns\n",
    "null_noncategorical = ds_1[noncategorical_columns].isnull().sum()\n",
    "null_noncategorical = null_noncategorical[null_noncategorical > 0]  # Filter columns with nulls\n",
    "if not null_noncategorical.empty:\n",
    "    print(\"\\nNon-categorical columns with null values:\")\n",
    "    print(null_noncategorical)\n",
    "else:\n",
    "    print(\"No null values in non-categorical columns.\")\n"
   ]
  },
  {
   "cell_type": "code",
   "execution_count": 12,
   "id": "c2ccc28e-7808-46a3-b31d-bf1831f0be59",
   "metadata": {},
   "outputs": [],
   "source": [
    "#ds_2 null values"
   ]
  },
  {
   "cell_type": "code",
   "execution_count": 13,
   "id": "0e4ee6ef-8dff-4d50-bbe4-e24bbefeb339",
   "metadata": {},
   "outputs": [
    {
     "name": "stdout",
     "output_type": "stream",
     "text": [
      "No null values in categorical columns.\n",
      "No null values in non-categorical columns.\n"
     ]
    }
   ],
   "source": [
    "# Separating categorical and non-categorical columns\n",
    "categorical_columns = ds_2.select_dtypes(include=['object', 'category']).columns\n",
    "noncategorical_columns = ds_2.select_dtypes(exclude=['object', 'category']).columns\n",
    "\n",
    "# Check for null values in categorical columns\n",
    "null_categorical = ds_2[categorical_columns].isnull().sum()\n",
    "null_categorical = null_categorical[null_categorical > 0]  # Filter columns with nulls\n",
    "if not null_categorical.empty:\n",
    "    print(\"Categorical columns with null values:\")\n",
    "    print(null_categorical)\n",
    "else:\n",
    "    print(\"No null values in categorical columns.\")\n",
    "\n",
    "# Check for null values in non-categorical columns\n",
    "null_noncategorical = ds_2[noncategorical_columns].isnull().sum()\n",
    "null_noncategorical = null_noncategorical[null_noncategorical > 0]  # Filter columns with nulls\n",
    "if not null_noncategorical.empty:\n",
    "    print(\"\\nNon-categorical columns with null values:\")\n",
    "    print(null_noncategorical)\n",
    "else:\n",
    "    print(\"No null values in non-categorical columns.\")\n"
   ]
  },
  {
   "cell_type": "code",
   "execution_count": null,
   "id": "7bc4e863-e152-4eda-bc0f-c038da343de5",
   "metadata": {},
   "outputs": [],
   "source": []
  }
 ],
 "metadata": {
  "kernelspec": {
   "display_name": "Python 3 (ipykernel)",
   "language": "python",
   "name": "python3"
  },
  "language_info": {
   "codemirror_mode": {
    "name": "ipython",
    "version": 3
   },
   "file_extension": ".py",
   "mimetype": "text/x-python",
   "name": "python",
   "nbconvert_exporter": "python",
   "pygments_lexer": "ipython3",
   "version": "3.11.5"
  }
 },
 "nbformat": 4,
 "nbformat_minor": 5
}
